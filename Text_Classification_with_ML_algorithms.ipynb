{
  "nbformat": 4,
  "nbformat_minor": 0,
  "metadata": {
    "colab": {
      "provenance": []
    },
    "kernelspec": {
      "name": "python3",
      "display_name": "Python 3"
    },
    "language_info": {
      "name": "python"
    }
  },
  "cells": [
    {
      "cell_type": "markdown",
      "source": [
        "Text Classification with ML algorithms : MLP, LogisticRegression, SVM, KNN, Random Forest"
      ],
      "metadata": {
        "id": "udhSBPM8_aaq"
      }
    },
    {
      "cell_type": "code",
      "execution_count": 10,
      "metadata": {
        "id": "3_6nYnOSyj9c",
        "colab": {
          "base_uri": "https://localhost:8080/"
        },
        "outputId": "11cc54b3-1aa2-48ac-b71e-b95501381b33"
      },
      "outputs": [
        {
          "output_type": "stream",
          "name": "stderr",
          "text": [
            "[nltk_data] Downloading package stopwords to /root/nltk_data...\n",
            "[nltk_data]   Package stopwords is already up-to-date!\n"
          ]
        }
      ],
      "source": [
        "\n",
        "\n",
        "import matplotlib.pyplot as plt\n",
        "import os\n",
        "import re\n",
        "import string\n",
        "import tensorflow as tf\n",
        "import tensorflow_hub as hub\n",
        "from sklearn.feature_extraction.text import TfidfVectorizer\n",
        "from sklearn.decomposition import PCA\n",
        "from collections import Counter\n",
        "from nltk.tokenize import word_tokenize\n",
        "from nltk.tokenize import sent_tokenize\n",
        "from nltk.stem import WordNetLemmatizer \n",
        "from sklearn.model_selection import train_test_split\n",
        "import matplotlib.pyplot as plt\n",
        "import pydot\n",
        "import shutil\n",
        "import string\n",
        "from collections import Counter\n",
        "import pandas as pd\n",
        "import numpy as np\n",
        "from sklearn.preprocessing import LabelEncoder\n",
        "from sklearn.metrics import classification_report\n",
        "import nltk\n",
        "nltk.download('stopwords')\n",
        "from nltk.corpus import stopwords"
      ]
    },
    {
      "cell_type": "code",
      "source": [
        "print(tf.__version__)\n",
        "#policy = mixed_precision.Policy('mixed_float16')\n",
        "#mixed_precision.set_policy(policy)"
      ],
      "metadata": {
        "colab": {
          "base_uri": "https://localhost:8080/"
        },
        "id": "pRhCIwjC2A3L",
        "outputId": "61ca66d8-ecdd-42b5-b816-bf9c4428b07b"
      },
      "execution_count": 11,
      "outputs": [
        {
          "output_type": "stream",
          "name": "stdout",
          "text": [
            "2.9.2\n"
          ]
        }
      ]
    },
    {
      "cell_type": "code",
      "source": [
        "if tf.test.gpu_device_name(): \n",
        "    print('Default GPU Device:{}'.format(tf.test.gpu_device_name()))\n",
        "\n",
        "else:\n",
        "    print(\"Please install GPU version of TF\")"
      ],
      "metadata": {
        "colab": {
          "base_uri": "https://localhost:8080/"
        },
        "id": "cKM4qpDL2Jh7",
        "outputId": "83e8c4d5-1de5-4f2b-da43-cf573ceff4ed"
      },
      "execution_count": 12,
      "outputs": [
        {
          "output_type": "stream",
          "name": "stdout",
          "text": [
            "Please install GPU version of TF\n"
          ]
        }
      ]
    },
    {
      "cell_type": "code",
      "source": [
        "# from google.colab import files\n",
        "# uploaded = files.upload()\n",
        "df = pd.read_csv(\"mtsamples.csv\")\n",
        "df.head()"
      ],
      "metadata": {
        "colab": {
          "base_uri": "https://localhost:8080/",
          "height": 354
        },
        "id": "BbXrKe-U2QCS",
        "outputId": "53019879-7d10-4f64-db45-fbeef4740985"
      },
      "execution_count": 13,
      "outputs": [
        {
          "output_type": "execute_result",
          "data": {
            "text/plain": [
              "   Unnamed: 0                                        description  \\\n",
              "0           0   A 23-year-old white female presents with comp...   \n",
              "1           1           Consult for laparoscopic gastric bypass.   \n",
              "2           2           Consult for laparoscopic gastric bypass.   \n",
              "3           3                             2-D M-Mode. Doppler.     \n",
              "4           4                                 2-D Echocardiogram   \n",
              "\n",
              "             medical_specialty                                sample_name  \\\n",
              "0         Allergy / Immunology                         Allergic Rhinitis    \n",
              "1                   Bariatrics   Laparoscopic Gastric Bypass Consult - 2    \n",
              "2                   Bariatrics   Laparoscopic Gastric Bypass Consult - 1    \n",
              "3   Cardiovascular / Pulmonary                    2-D Echocardiogram - 1    \n",
              "4   Cardiovascular / Pulmonary                    2-D Echocardiogram - 2    \n",
              "\n",
              "                                       transcription  \\\n",
              "0  SUBJECTIVE:,  This 23-year-old white female pr...   \n",
              "1  PAST MEDICAL HISTORY:, He has difficulty climb...   \n",
              "2  HISTORY OF PRESENT ILLNESS: , I have seen ABC ...   \n",
              "3  2-D M-MODE: , ,1.  Left atrial enlargement wit...   \n",
              "4  1.  The left ventricular cavity size and wall ...   \n",
              "\n",
              "                                            keywords  \n",
              "0  allergy / immunology, allergic rhinitis, aller...  \n",
              "1  bariatrics, laparoscopic gastric bypass, weigh...  \n",
              "2  bariatrics, laparoscopic gastric bypass, heart...  \n",
              "3  cardiovascular / pulmonary, 2-d m-mode, dopple...  \n",
              "4  cardiovascular / pulmonary, 2-d, doppler, echo...  "
            ],
            "text/html": [
              "\n",
              "  <div id=\"df-53a98b23-c386-40c3-a0a2-79a0c4fd4b7f\">\n",
              "    <div class=\"colab-df-container\">\n",
              "      <div>\n",
              "<style scoped>\n",
              "    .dataframe tbody tr th:only-of-type {\n",
              "        vertical-align: middle;\n",
              "    }\n",
              "\n",
              "    .dataframe tbody tr th {\n",
              "        vertical-align: top;\n",
              "    }\n",
              "\n",
              "    .dataframe thead th {\n",
              "        text-align: right;\n",
              "    }\n",
              "</style>\n",
              "<table border=\"1\" class=\"dataframe\">\n",
              "  <thead>\n",
              "    <tr style=\"text-align: right;\">\n",
              "      <th></th>\n",
              "      <th>Unnamed: 0</th>\n",
              "      <th>description</th>\n",
              "      <th>medical_specialty</th>\n",
              "      <th>sample_name</th>\n",
              "      <th>transcription</th>\n",
              "      <th>keywords</th>\n",
              "    </tr>\n",
              "  </thead>\n",
              "  <tbody>\n",
              "    <tr>\n",
              "      <th>0</th>\n",
              "      <td>0</td>\n",
              "      <td>A 23-year-old white female presents with comp...</td>\n",
              "      <td>Allergy / Immunology</td>\n",
              "      <td>Allergic Rhinitis</td>\n",
              "      <td>SUBJECTIVE:,  This 23-year-old white female pr...</td>\n",
              "      <td>allergy / immunology, allergic rhinitis, aller...</td>\n",
              "    </tr>\n",
              "    <tr>\n",
              "      <th>1</th>\n",
              "      <td>1</td>\n",
              "      <td>Consult for laparoscopic gastric bypass.</td>\n",
              "      <td>Bariatrics</td>\n",
              "      <td>Laparoscopic Gastric Bypass Consult - 2</td>\n",
              "      <td>PAST MEDICAL HISTORY:, He has difficulty climb...</td>\n",
              "      <td>bariatrics, laparoscopic gastric bypass, weigh...</td>\n",
              "    </tr>\n",
              "    <tr>\n",
              "      <th>2</th>\n",
              "      <td>2</td>\n",
              "      <td>Consult for laparoscopic gastric bypass.</td>\n",
              "      <td>Bariatrics</td>\n",
              "      <td>Laparoscopic Gastric Bypass Consult - 1</td>\n",
              "      <td>HISTORY OF PRESENT ILLNESS: , I have seen ABC ...</td>\n",
              "      <td>bariatrics, laparoscopic gastric bypass, heart...</td>\n",
              "    </tr>\n",
              "    <tr>\n",
              "      <th>3</th>\n",
              "      <td>3</td>\n",
              "      <td>2-D M-Mode. Doppler.</td>\n",
              "      <td>Cardiovascular / Pulmonary</td>\n",
              "      <td>2-D Echocardiogram - 1</td>\n",
              "      <td>2-D M-MODE: , ,1.  Left atrial enlargement wit...</td>\n",
              "      <td>cardiovascular / pulmonary, 2-d m-mode, dopple...</td>\n",
              "    </tr>\n",
              "    <tr>\n",
              "      <th>4</th>\n",
              "      <td>4</td>\n",
              "      <td>2-D Echocardiogram</td>\n",
              "      <td>Cardiovascular / Pulmonary</td>\n",
              "      <td>2-D Echocardiogram - 2</td>\n",
              "      <td>1.  The left ventricular cavity size and wall ...</td>\n",
              "      <td>cardiovascular / pulmonary, 2-d, doppler, echo...</td>\n",
              "    </tr>\n",
              "  </tbody>\n",
              "</table>\n",
              "</div>\n",
              "      <button class=\"colab-df-convert\" onclick=\"convertToInteractive('df-53a98b23-c386-40c3-a0a2-79a0c4fd4b7f')\"\n",
              "              title=\"Convert this dataframe to an interactive table.\"\n",
              "              style=\"display:none;\">\n",
              "        \n",
              "  <svg xmlns=\"http://www.w3.org/2000/svg\" height=\"24px\"viewBox=\"0 0 24 24\"\n",
              "       width=\"24px\">\n",
              "    <path d=\"M0 0h24v24H0V0z\" fill=\"none\"/>\n",
              "    <path d=\"M18.56 5.44l.94 2.06.94-2.06 2.06-.94-2.06-.94-.94-2.06-.94 2.06-2.06.94zm-11 1L8.5 8.5l.94-2.06 2.06-.94-2.06-.94L8.5 2.5l-.94 2.06-2.06.94zm10 10l.94 2.06.94-2.06 2.06-.94-2.06-.94-.94-2.06-.94 2.06-2.06.94z\"/><path d=\"M17.41 7.96l-1.37-1.37c-.4-.4-.92-.59-1.43-.59-.52 0-1.04.2-1.43.59L10.3 9.45l-7.72 7.72c-.78.78-.78 2.05 0 2.83L4 21.41c.39.39.9.59 1.41.59.51 0 1.02-.2 1.41-.59l7.78-7.78 2.81-2.81c.8-.78.8-2.07 0-2.86zM5.41 20L4 18.59l7.72-7.72 1.47 1.35L5.41 20z\"/>\n",
              "  </svg>\n",
              "      </button>\n",
              "      \n",
              "  <style>\n",
              "    .colab-df-container {\n",
              "      display:flex;\n",
              "      flex-wrap:wrap;\n",
              "      gap: 12px;\n",
              "    }\n",
              "\n",
              "    .colab-df-convert {\n",
              "      background-color: #E8F0FE;\n",
              "      border: none;\n",
              "      border-radius: 50%;\n",
              "      cursor: pointer;\n",
              "      display: none;\n",
              "      fill: #1967D2;\n",
              "      height: 32px;\n",
              "      padding: 0 0 0 0;\n",
              "      width: 32px;\n",
              "    }\n",
              "\n",
              "    .colab-df-convert:hover {\n",
              "      background-color: #E2EBFA;\n",
              "      box-shadow: 0px 1px 2px rgba(60, 64, 67, 0.3), 0px 1px 3px 1px rgba(60, 64, 67, 0.15);\n",
              "      fill: #174EA6;\n",
              "    }\n",
              "\n",
              "    [theme=dark] .colab-df-convert {\n",
              "      background-color: #3B4455;\n",
              "      fill: #D2E3FC;\n",
              "    }\n",
              "\n",
              "    [theme=dark] .colab-df-convert:hover {\n",
              "      background-color: #434B5C;\n",
              "      box-shadow: 0px 1px 3px 1px rgba(0, 0, 0, 0.15);\n",
              "      filter: drop-shadow(0px 1px 2px rgba(0, 0, 0, 0.3));\n",
              "      fill: #FFFFFF;\n",
              "    }\n",
              "  </style>\n",
              "\n",
              "      <script>\n",
              "        const buttonEl =\n",
              "          document.querySelector('#df-53a98b23-c386-40c3-a0a2-79a0c4fd4b7f button.colab-df-convert');\n",
              "        buttonEl.style.display =\n",
              "          google.colab.kernel.accessAllowed ? 'block' : 'none';\n",
              "\n",
              "        async function convertToInteractive(key) {\n",
              "          const element = document.querySelector('#df-53a98b23-c386-40c3-a0a2-79a0c4fd4b7f');\n",
              "          const dataTable =\n",
              "            await google.colab.kernel.invokeFunction('convertToInteractive',\n",
              "                                                     [key], {});\n",
              "          if (!dataTable) return;\n",
              "\n",
              "          const docLinkHtml = 'Like what you see? Visit the ' +\n",
              "            '<a target=\"_blank\" href=https://colab.research.google.com/notebooks/data_table.ipynb>data table notebook</a>'\n",
              "            + ' to learn more about interactive tables.';\n",
              "          element.innerHTML = '';\n",
              "          dataTable['output_type'] = 'display_data';\n",
              "          await google.colab.output.renderOutput(dataTable, element);\n",
              "          const docLink = document.createElement('div');\n",
              "          docLink.innerHTML = docLinkHtml;\n",
              "          element.appendChild(docLink);\n",
              "        }\n",
              "      </script>\n",
              "    </div>\n",
              "  </div>\n",
              "  "
            ]
          },
          "metadata": {},
          "execution_count": 13
        }
      ]
    },
    {
      "cell_type": "code",
      "source": [
        "df=df[['transcription','medical_specialty']]\n",
        "df.head()"
      ],
      "metadata": {
        "id": "JWwK8i6V3OYh",
        "colab": {
          "base_uri": "https://localhost:8080/",
          "height": 206
        },
        "outputId": "11de59e0-3bbc-48ee-9cf0-e4a3ee431fe6"
      },
      "execution_count": 14,
      "outputs": [
        {
          "output_type": "execute_result",
          "data": {
            "text/plain": [
              "                                       transcription  \\\n",
              "0  SUBJECTIVE:,  This 23-year-old white female pr...   \n",
              "1  PAST MEDICAL HISTORY:, He has difficulty climb...   \n",
              "2  HISTORY OF PRESENT ILLNESS: , I have seen ABC ...   \n",
              "3  2-D M-MODE: , ,1.  Left atrial enlargement wit...   \n",
              "4  1.  The left ventricular cavity size and wall ...   \n",
              "\n",
              "             medical_specialty  \n",
              "0         Allergy / Immunology  \n",
              "1                   Bariatrics  \n",
              "2                   Bariatrics  \n",
              "3   Cardiovascular / Pulmonary  \n",
              "4   Cardiovascular / Pulmonary  "
            ],
            "text/html": [
              "\n",
              "  <div id=\"df-3f383da5-b2b2-495e-b923-4df8f7adecfa\">\n",
              "    <div class=\"colab-df-container\">\n",
              "      <div>\n",
              "<style scoped>\n",
              "    .dataframe tbody tr th:only-of-type {\n",
              "        vertical-align: middle;\n",
              "    }\n",
              "\n",
              "    .dataframe tbody tr th {\n",
              "        vertical-align: top;\n",
              "    }\n",
              "\n",
              "    .dataframe thead th {\n",
              "        text-align: right;\n",
              "    }\n",
              "</style>\n",
              "<table border=\"1\" class=\"dataframe\">\n",
              "  <thead>\n",
              "    <tr style=\"text-align: right;\">\n",
              "      <th></th>\n",
              "      <th>transcription</th>\n",
              "      <th>medical_specialty</th>\n",
              "    </tr>\n",
              "  </thead>\n",
              "  <tbody>\n",
              "    <tr>\n",
              "      <th>0</th>\n",
              "      <td>SUBJECTIVE:,  This 23-year-old white female pr...</td>\n",
              "      <td>Allergy / Immunology</td>\n",
              "    </tr>\n",
              "    <tr>\n",
              "      <th>1</th>\n",
              "      <td>PAST MEDICAL HISTORY:, He has difficulty climb...</td>\n",
              "      <td>Bariatrics</td>\n",
              "    </tr>\n",
              "    <tr>\n",
              "      <th>2</th>\n",
              "      <td>HISTORY OF PRESENT ILLNESS: , I have seen ABC ...</td>\n",
              "      <td>Bariatrics</td>\n",
              "    </tr>\n",
              "    <tr>\n",
              "      <th>3</th>\n",
              "      <td>2-D M-MODE: , ,1.  Left atrial enlargement wit...</td>\n",
              "      <td>Cardiovascular / Pulmonary</td>\n",
              "    </tr>\n",
              "    <tr>\n",
              "      <th>4</th>\n",
              "      <td>1.  The left ventricular cavity size and wall ...</td>\n",
              "      <td>Cardiovascular / Pulmonary</td>\n",
              "    </tr>\n",
              "  </tbody>\n",
              "</table>\n",
              "</div>\n",
              "      <button class=\"colab-df-convert\" onclick=\"convertToInteractive('df-3f383da5-b2b2-495e-b923-4df8f7adecfa')\"\n",
              "              title=\"Convert this dataframe to an interactive table.\"\n",
              "              style=\"display:none;\">\n",
              "        \n",
              "  <svg xmlns=\"http://www.w3.org/2000/svg\" height=\"24px\"viewBox=\"0 0 24 24\"\n",
              "       width=\"24px\">\n",
              "    <path d=\"M0 0h24v24H0V0z\" fill=\"none\"/>\n",
              "    <path d=\"M18.56 5.44l.94 2.06.94-2.06 2.06-.94-2.06-.94-.94-2.06-.94 2.06-2.06.94zm-11 1L8.5 8.5l.94-2.06 2.06-.94-2.06-.94L8.5 2.5l-.94 2.06-2.06.94zm10 10l.94 2.06.94-2.06 2.06-.94-2.06-.94-.94-2.06-.94 2.06-2.06.94z\"/><path d=\"M17.41 7.96l-1.37-1.37c-.4-.4-.92-.59-1.43-.59-.52 0-1.04.2-1.43.59L10.3 9.45l-7.72 7.72c-.78.78-.78 2.05 0 2.83L4 21.41c.39.39.9.59 1.41.59.51 0 1.02-.2 1.41-.59l7.78-7.78 2.81-2.81c.8-.78.8-2.07 0-2.86zM5.41 20L4 18.59l7.72-7.72 1.47 1.35L5.41 20z\"/>\n",
              "  </svg>\n",
              "      </button>\n",
              "      \n",
              "  <style>\n",
              "    .colab-df-container {\n",
              "      display:flex;\n",
              "      flex-wrap:wrap;\n",
              "      gap: 12px;\n",
              "    }\n",
              "\n",
              "    .colab-df-convert {\n",
              "      background-color: #E8F0FE;\n",
              "      border: none;\n",
              "      border-radius: 50%;\n",
              "      cursor: pointer;\n",
              "      display: none;\n",
              "      fill: #1967D2;\n",
              "      height: 32px;\n",
              "      padding: 0 0 0 0;\n",
              "      width: 32px;\n",
              "    }\n",
              "\n",
              "    .colab-df-convert:hover {\n",
              "      background-color: #E2EBFA;\n",
              "      box-shadow: 0px 1px 2px rgba(60, 64, 67, 0.3), 0px 1px 3px 1px rgba(60, 64, 67, 0.15);\n",
              "      fill: #174EA6;\n",
              "    }\n",
              "\n",
              "    [theme=dark] .colab-df-convert {\n",
              "      background-color: #3B4455;\n",
              "      fill: #D2E3FC;\n",
              "    }\n",
              "\n",
              "    [theme=dark] .colab-df-convert:hover {\n",
              "      background-color: #434B5C;\n",
              "      box-shadow: 0px 1px 3px 1px rgba(0, 0, 0, 0.15);\n",
              "      filter: drop-shadow(0px 1px 2px rgba(0, 0, 0, 0.3));\n",
              "      fill: #FFFFFF;\n",
              "    }\n",
              "  </style>\n",
              "\n",
              "      <script>\n",
              "        const buttonEl =\n",
              "          document.querySelector('#df-3f383da5-b2b2-495e-b923-4df8f7adecfa button.colab-df-convert');\n",
              "        buttonEl.style.display =\n",
              "          google.colab.kernel.accessAllowed ? 'block' : 'none';\n",
              "\n",
              "        async function convertToInteractive(key) {\n",
              "          const element = document.querySelector('#df-3f383da5-b2b2-495e-b923-4df8f7adecfa');\n",
              "          const dataTable =\n",
              "            await google.colab.kernel.invokeFunction('convertToInteractive',\n",
              "                                                     [key], {});\n",
              "          if (!dataTable) return;\n",
              "\n",
              "          const docLinkHtml = 'Like what you see? Visit the ' +\n",
              "            '<a target=\"_blank\" href=https://colab.research.google.com/notebooks/data_table.ipynb>data table notebook</a>'\n",
              "            + ' to learn more about interactive tables.';\n",
              "          element.innerHTML = '';\n",
              "          dataTable['output_type'] = 'display_data';\n",
              "          await google.colab.output.renderOutput(dataTable, element);\n",
              "          const docLink = document.createElement('div');\n",
              "          docLink.innerHTML = docLinkHtml;\n",
              "          element.appendChild(docLink);\n",
              "        }\n",
              "      </script>\n",
              "    </div>\n",
              "  </div>\n",
              "  "
            ]
          },
          "metadata": {},
          "execution_count": 14
        }
      ]
    },
    {
      "cell_type": "code",
      "source": [
        "df = df[df['medical_specialty'] != ' Surgery']\n",
        "df = df[df['medical_specialty'] != ' SOAP / Chart / Progress Notes']\n",
        "df = df[df['medical_specialty'] != ' Emergency Room Reports']\n",
        "df = df[df['medical_specialty'] != ' Discharge Summary']\n",
        "df = df[df['medical_specialty'] != ' Office Notes']\n",
        "df = df[df['medical_specialty'] != ' General Medicine']\n",
        "df = df[df['medical_specialty'] != ' Pain Management']"
      ],
      "metadata": {
        "id": "nETtvcZ53Ubv"
      },
      "execution_count": 15,
      "outputs": []
    },
    {
      "cell_type": "code",
      "source": [
        "df.isna().sum()"
      ],
      "metadata": {
        "id": "mREeV5L-3amw",
        "colab": {
          "base_uri": "https://localhost:8080/"
        },
        "outputId": "fb8abfdc-30c2-48a8-9c30-b27a95cc3db3"
      },
      "execution_count": 16,
      "outputs": [
        {
          "output_type": "execute_result",
          "data": {
            "text/plain": [
              "transcription        16\n",
              "medical_specialty     0\n",
              "dtype: int64"
            ]
          },
          "metadata": {},
          "execution_count": 16
        }
      ]
    },
    {
      "cell_type": "code",
      "source": [
        "df.dropna(axis=0,inplace=True)"
      ],
      "metadata": {
        "id": "VU5QlIwi3frB"
      },
      "execution_count": 17,
      "outputs": []
    },
    {
      "cell_type": "code",
      "source": [
        "counts = df['medical_specialty'].value_counts()\n",
        "\n",
        "df = df[~df['medical_specialty'].isin(counts[counts < 240].index)]\n",
        "df.head()"
      ],
      "metadata": {
        "id": "OIgzcrVj3kA2",
        "colab": {
          "base_uri": "https://localhost:8080/",
          "height": 206
        },
        "outputId": "5875a3e9-0869-47de-d085-101548f6291f"
      },
      "execution_count": 18,
      "outputs": [
        {
          "output_type": "execute_result",
          "data": {
            "text/plain": [
              "                                        transcription  \\\n",
              "3   2-D M-MODE: , ,1.  Left atrial enlargement wit...   \n",
              "4   1.  The left ventricular cavity size and wall ...   \n",
              "7   2-D ECHOCARDIOGRAM,Multiple views of the heart...   \n",
              "9   DESCRIPTION:,1.  Normal cardiac chambers size....   \n",
              "11  2-D STUDY,1. Mild aortic stenosis, widely calc...   \n",
              "\n",
              "              medical_specialty  \n",
              "3    Cardiovascular / Pulmonary  \n",
              "4    Cardiovascular / Pulmonary  \n",
              "7    Cardiovascular / Pulmonary  \n",
              "9    Cardiovascular / Pulmonary  \n",
              "11   Cardiovascular / Pulmonary  "
            ],
            "text/html": [
              "\n",
              "  <div id=\"df-4977d8a6-0017-4c25-92ae-509b1f99754c\">\n",
              "    <div class=\"colab-df-container\">\n",
              "      <div>\n",
              "<style scoped>\n",
              "    .dataframe tbody tr th:only-of-type {\n",
              "        vertical-align: middle;\n",
              "    }\n",
              "\n",
              "    .dataframe tbody tr th {\n",
              "        vertical-align: top;\n",
              "    }\n",
              "\n",
              "    .dataframe thead th {\n",
              "        text-align: right;\n",
              "    }\n",
              "</style>\n",
              "<table border=\"1\" class=\"dataframe\">\n",
              "  <thead>\n",
              "    <tr style=\"text-align: right;\">\n",
              "      <th></th>\n",
              "      <th>transcription</th>\n",
              "      <th>medical_specialty</th>\n",
              "    </tr>\n",
              "  </thead>\n",
              "  <tbody>\n",
              "    <tr>\n",
              "      <th>3</th>\n",
              "      <td>2-D M-MODE: , ,1.  Left atrial enlargement wit...</td>\n",
              "      <td>Cardiovascular / Pulmonary</td>\n",
              "    </tr>\n",
              "    <tr>\n",
              "      <th>4</th>\n",
              "      <td>1.  The left ventricular cavity size and wall ...</td>\n",
              "      <td>Cardiovascular / Pulmonary</td>\n",
              "    </tr>\n",
              "    <tr>\n",
              "      <th>7</th>\n",
              "      <td>2-D ECHOCARDIOGRAM,Multiple views of the heart...</td>\n",
              "      <td>Cardiovascular / Pulmonary</td>\n",
              "    </tr>\n",
              "    <tr>\n",
              "      <th>9</th>\n",
              "      <td>DESCRIPTION:,1.  Normal cardiac chambers size....</td>\n",
              "      <td>Cardiovascular / Pulmonary</td>\n",
              "    </tr>\n",
              "    <tr>\n",
              "      <th>11</th>\n",
              "      <td>2-D STUDY,1. Mild aortic stenosis, widely calc...</td>\n",
              "      <td>Cardiovascular / Pulmonary</td>\n",
              "    </tr>\n",
              "  </tbody>\n",
              "</table>\n",
              "</div>\n",
              "      <button class=\"colab-df-convert\" onclick=\"convertToInteractive('df-4977d8a6-0017-4c25-92ae-509b1f99754c')\"\n",
              "              title=\"Convert this dataframe to an interactive table.\"\n",
              "              style=\"display:none;\">\n",
              "        \n",
              "  <svg xmlns=\"http://www.w3.org/2000/svg\" height=\"24px\"viewBox=\"0 0 24 24\"\n",
              "       width=\"24px\">\n",
              "    <path d=\"M0 0h24v24H0V0z\" fill=\"none\"/>\n",
              "    <path d=\"M18.56 5.44l.94 2.06.94-2.06 2.06-.94-2.06-.94-.94-2.06-.94 2.06-2.06.94zm-11 1L8.5 8.5l.94-2.06 2.06-.94-2.06-.94L8.5 2.5l-.94 2.06-2.06.94zm10 10l.94 2.06.94-2.06 2.06-.94-2.06-.94-.94-2.06-.94 2.06-2.06.94z\"/><path d=\"M17.41 7.96l-1.37-1.37c-.4-.4-.92-.59-1.43-.59-.52 0-1.04.2-1.43.59L10.3 9.45l-7.72 7.72c-.78.78-.78 2.05 0 2.83L4 21.41c.39.39.9.59 1.41.59.51 0 1.02-.2 1.41-.59l7.78-7.78 2.81-2.81c.8-.78.8-2.07 0-2.86zM5.41 20L4 18.59l7.72-7.72 1.47 1.35L5.41 20z\"/>\n",
              "  </svg>\n",
              "      </button>\n",
              "      \n",
              "  <style>\n",
              "    .colab-df-container {\n",
              "      display:flex;\n",
              "      flex-wrap:wrap;\n",
              "      gap: 12px;\n",
              "    }\n",
              "\n",
              "    .colab-df-convert {\n",
              "      background-color: #E8F0FE;\n",
              "      border: none;\n",
              "      border-radius: 50%;\n",
              "      cursor: pointer;\n",
              "      display: none;\n",
              "      fill: #1967D2;\n",
              "      height: 32px;\n",
              "      padding: 0 0 0 0;\n",
              "      width: 32px;\n",
              "    }\n",
              "\n",
              "    .colab-df-convert:hover {\n",
              "      background-color: #E2EBFA;\n",
              "      box-shadow: 0px 1px 2px rgba(60, 64, 67, 0.3), 0px 1px 3px 1px rgba(60, 64, 67, 0.15);\n",
              "      fill: #174EA6;\n",
              "    }\n",
              "\n",
              "    [theme=dark] .colab-df-convert {\n",
              "      background-color: #3B4455;\n",
              "      fill: #D2E3FC;\n",
              "    }\n",
              "\n",
              "    [theme=dark] .colab-df-convert:hover {\n",
              "      background-color: #434B5C;\n",
              "      box-shadow: 0px 1px 3px 1px rgba(0, 0, 0, 0.15);\n",
              "      filter: drop-shadow(0px 1px 2px rgba(0, 0, 0, 0.3));\n",
              "      fill: #FFFFFF;\n",
              "    }\n",
              "  </style>\n",
              "\n",
              "      <script>\n",
              "        const buttonEl =\n",
              "          document.querySelector('#df-4977d8a6-0017-4c25-92ae-509b1f99754c button.colab-df-convert');\n",
              "        buttonEl.style.display =\n",
              "          google.colab.kernel.accessAllowed ? 'block' : 'none';\n",
              "\n",
              "        async function convertToInteractive(key) {\n",
              "          const element = document.querySelector('#df-4977d8a6-0017-4c25-92ae-509b1f99754c');\n",
              "          const dataTable =\n",
              "            await google.colab.kernel.invokeFunction('convertToInteractive',\n",
              "                                                     [key], {});\n",
              "          if (!dataTable) return;\n",
              "\n",
              "          const docLinkHtml = 'Like what you see? Visit the ' +\n",
              "            '<a target=\"_blank\" href=https://colab.research.google.com/notebooks/data_table.ipynb>data table notebook</a>'\n",
              "            + ' to learn more about interactive tables.';\n",
              "          element.innerHTML = '';\n",
              "          dataTable['output_type'] = 'display_data';\n",
              "          await google.colab.output.renderOutput(dataTable, element);\n",
              "          const docLink = document.createElement('div');\n",
              "          docLink.innerHTML = docLinkHtml;\n",
              "          element.appendChild(docLink);\n",
              "        }\n",
              "      </script>\n",
              "    </div>\n",
              "  </div>\n",
              "  "
            ]
          },
          "metadata": {},
          "execution_count": 18
        }
      ]
    },
    {
      "cell_type": "code",
      "source": [
        "special_character_remover = re.compile('[/(){}\\[\\]\\|@,;]')\n",
        "extra_symbol_remover = re.compile('[^0-9a-z #+_]')\n",
        "STOPWORDS = set(stopwords.words('english'))"
      ],
      "metadata": {
        "id": "JqgmdcXv3qYs"
      },
      "execution_count": 19,
      "outputs": []
    },
    {
      "cell_type": "markdown",
      "source": [
        "Lemmatization is the process of converting a word to its base form. The difference between stemming and lemmatization is, lemmatization considers the context and converts the word to its meaningful base form, whereas stemming just removes the last few characters, often leading to incorrect meanings and spelling errors."
      ],
      "metadata": {
        "id": "WX8eftYpFmVW"
      }
    },
    {
      "cell_type": "markdown",
      "source": [
        "Tokenization is used in natural language processing to split paragraphs and sentences into smaller units that can be more easily assigned meaning.   \n",
        "\n",
        "The first step of the NLP process is gathering the data (a sentence) and breaking it into understandable parts (words)."
      ],
      "metadata": {
        "id": "KIa-aS6NGHct"
      }
    },
    {
      "cell_type": "code",
      "source": [
        "def clean_text(text):\n",
        "    text = text.lower()\n",
        "    text = special_character_remover.sub(' ',text)\n",
        "    text = extra_symbol_remover.sub('',text)\n",
        "    text = ' '.join(word for word in text.split() if word not in STOPWORDS)\n",
        "    return text\n",
        "\n",
        "def lemmatize_text(text):\n",
        "    wordlist=[]\n",
        "    lemmatizer = WordNetLemmatizer() \n",
        "    sentences=sent_tokenize(text)\n",
        "    \n",
        "    for sentence in sentences:\n",
        "        words=word_tokenize(sentence)\n",
        "        for word in words:\n",
        "            wordlist.append(lemmatizer.lemmatize(word))    \n",
        "    return ' '.join(wordlist) "
      ],
      "metadata": {
        "id": "oXrXVnpk3uex"
      },
      "execution_count": 20,
      "outputs": []
    },
    {
      "cell_type": "code",
      "source": [
        "nltk.download('punkt')\n",
        "nltk.download('wordnet')\n",
        "nltk.download('omw-1.4')"
      ],
      "metadata": {
        "id": "IdeI7uBq3zlb",
        "colab": {
          "base_uri": "https://localhost:8080/"
        },
        "outputId": "85e02b2b-a274-43d4-9ecf-77ebb4fa1807"
      },
      "execution_count": 21,
      "outputs": [
        {
          "output_type": "stream",
          "name": "stderr",
          "text": [
            "[nltk_data] Downloading package punkt to /root/nltk_data...\n",
            "[nltk_data]   Unzipping tokenizers/punkt.zip.\n",
            "[nltk_data] Downloading package wordnet to /root/nltk_data...\n",
            "[nltk_data] Downloading package omw-1.4 to /root/nltk_data...\n"
          ]
        },
        {
          "output_type": "execute_result",
          "data": {
            "text/plain": [
              "True"
            ]
          },
          "metadata": {},
          "execution_count": 21
        }
      ]
    },
    {
      "cell_type": "code",
      "source": [
        "df['transcription'] = df['transcription'].apply(clean_text)\n",
        "df['transcription'] = df['transcription'].apply(lemmatize_text)"
      ],
      "metadata": {
        "id": "D4rf4DEJ33_9"
      },
      "execution_count": 22,
      "outputs": []
    },
    {
      "cell_type": "markdown",
      "source": [
        "Whenever we apply any algorithm to textual data, we need to convert the text to a numeric form. Hence, there arises a need for some pre-processing techniques that can convert our text to numbers. Both bag-of-words (BOW) and TFIDF are pre-processing techniques that can generate a numeric form from an input text.\n",
        "\n",
        "Bag-of-Words:\n",
        "The bag-of-words model converts text into fixed-length vectors by counting how many times each word appears."
      ],
      "metadata": {
        "id": "jAYiybtyITqG"
      }
    },
    {
      "cell_type": "code",
      "source": [
        "vectorizer = TfidfVectorizer(analyzer='word', stop_words='english',ngram_range=(1,3), max_df=0.75,min_df=5, use_idf=True, smooth_idf=True,sublinear_tf=True, max_features=1000)\n",
        "tfIdfMat  = vectorizer.fit_transform(df['transcription'].tolist() )\n",
        "feature_names = sorted(vectorizer.get_feature_names())\n",
        "del feature_names[0:35]\n",
        "print(feature_names)"
      ],
      "metadata": {
        "id": "Gpgxs62H39HR",
        "colab": {
          "base_uri": "https://localhost:8080/"
        },
        "outputId": "b65d968f-b079-4c64-a850-dfa5cd49d0e8"
      },
      "execution_count": 23,
      "outputs": [
        {
          "output_type": "stream",
          "name": "stdout",
          "text": [
            "['60', '6french', '70', '75', '80', '90', '92', '93', '95', '96', 'abc', 'abcd', 'abdomen', 'abdomen soft', 'abdomen soft nontender', 'abdominal', 'abdominal pain', 'able', 'abnormal', 'abnormality', 'abuse', 'according', 'achieved', 'active', 'activity', 'acute', 'acute distress', 'addition', 'additional', 'adenopathy', 'adequate', 'administered', 'admission', 'admitted', 'advanced', 'affect', 'age', 'ago', 'air', 'airway', 'alcohol', 'alert', 'alert oriented', 'allergic', 'allergy', 'allergy known', 'allergy known drug', 'anemia', 'anesthesia', 'anesthesia general', 'anesthetic', 'angiogram', 'angiography', 'ankle', 'anterior', 'anterior descending', 'antibiotic', 'anxiety', 'aorta', 'aortic', 'aortic valve', 'ap', 'apparently', 'appear', 'appearance', 'appeared', 'appears', 'applied', 'appropriate', 'approximately', 'area', 'arm', 'arterial', 'artery', 'artery disease', 'arthritis', 'asked', 'aspect', 'aspirin', 'assessment', 'associated', 'atraumatic', 'atrial', 'atrial fibrillation', 'atrium', 'attention', 'auscultation', 'axis', 'balloon', 'base', 'based', 'beat', 'bed', 'began', 'benefit', 'benign', 'better', 'biceps', 'bid', 'bilateral', 'bilaterally', 'biopsy', 'bladder', 'blade', 'bleeding', 'block', 'blood', 'blood loss', 'blood pressure', 'body', 'bone', 'bony', 'bowel', 'bowel sound', 'brain', 'branch', 'breast', 'breath', 'brother', 'brought', 'bruits', 'bun', 'bypass', 'c5c6', 'calcification', 'calcium', 'came', 'canal', 'cancer', 'capsule', 'cardiac', 'cardiovascular', 'care', 'carefully', 'carotid', 'carotid artery', 'carpal', 'carpal tunnel', 'carried', 'case', 'catheter', 'catheterization', 'cc', 'cell', 'central', 'cervical', 'change', 'chart', 'check', 'chest', 'chest pain', 'chest xray', 'chief', 'chief complaint', 'child', 'chill', 'chronic', 'circumflex', 'clear', 'clear auscultation', 'clinic', 'clinical', 'closed', 'closure', 'clubbing', 'cm', 'collateral', 'come', 'common', 'complaint', 'complete', 'completed', 'complex', 'complication', 'component', 'compression', 'concern', 'condition', 'confirmed', 'consent', 'consistent', 'consultation', 'continue', 'continued', 'contrast', 'control', 'cord', 'coronary', 'coronary artery', 'coronary artery disease', 'cough', 'coumadin', 'count', 'course', 'cranial', 'cranial nerve', 'creatinine', 'csf', 'ct', 'ct scan', 'cuff', 'culture', 'current', 'current medication', 'currently', 'cut', 'cyanosis', 'daily', 'data', 'daughter', 'day', 'decompression', 'decreased', 'deep', 'defect', 'deficit', 'deformity', 'degenerative', 'degree', 'demonstrated', 'denied', 'denies', 'department', 'depression', 'descending', 'descending artery', 'described', 'description', 'developed', 'device', 'diabetes', 'diabetes mellitus', 'diagnosed', 'diagnosis', 'diagnostic', 'diagonal', 'diarrhea', 'died', 'diet', 'difficulty', 'diffuse', 'direct', 'directed', 'disc', 'discharge', 'discharged', 'discomfort', 'discussed', 'discussed patient', 'disease', 'disk', 'disorder', 'dissected', 'dissection', 'distal', 'distally', 'distress', 'dorsal', 'dose', 'dr', 'drain', 'drainage', 'draped', 'draped usual', 'draped usual sterile', 'dressing', 'dressing applied', 'drink', 'drug', 'drug allergy', 'drug use', 'dry', 'dyspnea', 'ear', 'echocardiogram', 'edema', 'edge', 'effect', 'effusion', 'ejection', 'ejection fraction', 'ekg', 'elbow', 'elevated', 'emergency', 'emergency room', 'end', 'endotracheal', 'enlarged', 'episode', 'equal', 'erythema', 'estimated', 'estimated blood', 'estimated blood loss', 'evaluated', 'evaluation', 'evidence', 'exam', 'examination', 'examination general', 'examination vital', 'examination vital sign', 'excellent', 'exercise', 'explained', 'extending', 'extension', 'extensor', 'external', 'extraocular', 'extremity', 'eye', 'facet', 'facial', 'factor', 'failure', 'fall', 'family', 'family history', 'fascia', 'fashion', 'father', 'fatigue', 'feel', 'felt', 'female', 'femoral', 'femoral artery', 'fever', 'fever chill', 'fibrillation', 'field', 'fifth', 'finding', 'finger', 'fixation', 'flexion', 'flexor', 'flow', 'fluid', 'flushed', 'focal', 'follow', 'followed', 'following', 'followup', 'food', 'foot', 'foramen', 'fraction', 'fracture', 'fragment', 'free', 'function', 'fusion', 'gait', 'gallop', 'general', 'gentleman', 'gi', 'given', 'glucose', 'going', 'good', 'grade', 'graft', 'greater', 'grossly', 'guide', 'guidewire', 'hand', 'head', 'headache', 'health', 'healthy', 'hearing', 'heart', 'heart failure', 'heart rate', 'heart regular', 'heent', 'height', 'help', 'hemoglobin', 'hemostasis', 'hernia', 'high', 'hip', 'history', 'history hypertension', 'history patient', 'history present', 'history present illness', 'history significant', 'home', 'hospital', 'hour', 'husband', 'hypertension', 'identified', 'ii', 'illicit', 'illicit drug', 'illness', 'illness patient', 'image', 'imaging', 'impression', 'improved', 'improvement', 'inch', 'incision', 'include', 'including', 'increase', 'increased', 'indication', 'infarction', 'infection', 'inferior', 'informed', 'informed consent', 'initial', 'initially', 'injected', 'injection', 'injury', 'inr', 'inserted', 'insertion', 'intact', 'internal', 'interrupted', 'interval', 'intervention', 'intraoperative', 'involving', 'irrigated', 'issue', 'iv', 'joint', 'kidney', 'knee', 'known', 'known drug', 'known drug allergy', 'l4l5', 'l5', 'l5s1', 'lab', 'laboratory', 'laboratory data', 'lad', 'large', 'later', 'lateral', 'laterally', 'layer', 'le', 'lead', 'left', 'left anterior', 'left anterior descending', 'left knee', 'left lower', 'left main', 'left upper', 'left ventricle', 'left ventricular', 'leg', 'length', 'lesion', 'level', 'lidocaine', 'life', 'ligament', 'light', 'like', 'likely', 'limit', 'limited', 'line', 'little', 'liver', 'lobe', 'local', 'long', 'longus', 'loss', 'low', 'lower', 'lower extremity', 'lumbar', 'lumbar spine', 'lung', 'lung clear', 'lung clear auscultation', 'lv', 'lymph', 'lymph node', 'lymphadenopathy', 'main', 'make', 'male', 'management', 'manner', 'marcaine', 'marked', 'married', 'mass', 'material', 'measure', 'measuring', 'medial', 'medical', 'medical history', 'medication', 'mellitus', 'membrane', 'memory', 'mental', 'mentioned', 'metatarsal', 'mg', 'mg daily', 'mg day', 'mg po', 'mg po daily', 'mid', 'middle', 'midline', 'mild', 'mildly', 'minimal', 'minute', 'mitral', 'ml', 'mm', 'mmhg', 'moderate', 'mom', 'month', 'mood', 'morning', 'mother', 'motion', 'motor', 'movement', 'mr', 'mri', 'multiple', 'murmur', 'muscle', 'musculoskeletal', 'myocardial', 'narrowing', 'nasal', 'nausea', 'nausea vomiting', 'neck', 'neck supple', 'need', 'needed', 'needle', 'negative', 'nerve', 'nerve root', 'neurologic', 'neurological', 'new', 'night', 'node', 'noncontributory', 'nontender', 'normal', 'normal limit', 'normocephalic', 'nose', 'note', 'noted', 'numbness', 'obstruction', 'obstructive', 'obtained', 'obvious', 'occasional', 'office', 'old', 'onset', 'open', 'operating', 'operating room', 'operation', 'operative', 'oral', 'order', 'oriented', 'osteophyte', 'osteotomy', 'outpatient', 'oxygen', 'pacemaker', 'pain', 'palpable', 'palpation', 'palpitation', 'partial', 'passed', 'past', 'past medical', 'past medical history', 'past surgical', 'past surgical history', 'patella', 'patent', 'pathology', 'patient brought', 'patient denies', 'patient given', 'patient state', 'patient taken', 'patient tolerated', 'patient tolerated procedure', 'pelvis', 'performed', 'perfusion', 'pericardial', 'period', 'peripheral', 'physical', 'physical examination', 'physical examination general', 'physical examination vital', 'physical therapy', 'physician', 'place', 'placed', 'placement', 'plan', 'plantar', 'plaque', 'plate', 'platelet', 'pleasant', 'pleural', 'pneumonia', 'po', 'po daily', 'point', 'poor', 'portal', 'portion', 'position', 'positioned', 'positive', 'possible', 'post', 'posterior', 'postoperative', 'postoperative diagnosis', 'potassium', 'pound', 'preoperative', 'preoperative diagnosis', 'prepped', 'prepped draped', 'prepped draped usual', 'prescription', 'present', 'present illness', 'present illness patient', 'presentation', 'presented', 'pressure', 'previous', 'previously', 'primary', 'prior', 'prn', 'probably', 'problem', 'procedure', 'procedure patient', 'procedure performed', 'proceed', 'process', 'prolene', 'protein', 'protocol', 'proximal', 'proximally', 'psychiatric', 'pulmonary', 'pulmonary artery', 'pulse', 'pupil', 'pupil equal', 'qd', 'quadrant', 'question', 'quite', 'radial', 'range', 'range motion', 'rash', 'rate', 'rate rhythm', 'reactive', 'reactive light', 'reason', 'received', 'recent', 'recently', 'recommendation', 'recommended', 'recovery', 'recovery room', 'rectal', 'recurrent', 'reduction', 'referred', 'reflex', 'regarding', 'region', 'regular', 'regular rate', 'regular rate rhythm', 'regurgitation', 'related', 'release', 'released', 'removal', 'removed', 'renal', 'repair', 'repeat', 'replacement', 'report', 'reported', 'resection', 'residual', 'resolved', 'respiration', 'respiratory', 'respiratory rate', 'response', 'rest', 'result', 'return', 'returned', 'revealed', 'reveals', 'review', 'reviewed', 'rhythm', 'right', 'right coronary', 'right coronary artery', 'right femoral', 'right foot', 'right knee', 'right lower', 'right upper', 'risk', 'risk benefit', 'room', 'root', 'rotator', 'rotator cuff', 'round', 'rub', 'running', 's1', 's1 s2', 's2', 'saline', 'satisfactory', 'saturation', 'saw', 'scan', 'school', 'screw', 'second', 'secondary', 'sedation', 'seen', 'segment', 'seizure', 'sensation', 'sensory', 'sent', 'series', 'severe', 'sharp', 'sheath', 'short', 'shortness', 'shortness breath', 'shoulder', 'showed', 'shunt', 'sign', 'signal', 'significant', 'single', 'sinus', 'sinus rhythm', 'site', 'size', 'skin', 'sleep', 'slightly', 'small', 'smoke', 'smoking', 'social', 'social history', 'social history patient', 'soft', 'soft nontender', 'soft tissue', 'solution', 'somewhat', 'sound', 'space', 'specimen', 'speech', 'spinal', 'spine', 'stable', 'stable condition', 'standard', 'started', 'state', 'stated', 'status', 'status post', 'stenosis', 'stent', 'sterile', 'sterile fashion', 'stool', 'strength', 'stress', 'stroke', 'structure', 'study', 'subcutaneous', 'subcutaneous tissue', 'subsequently', 'superficial', 'superior', 'supine', 'supine position', 'supple', 'surface', 'surgery', 'surgical', 'surgical history', 'suture', 'swelling', 'symptom', 'syndrome', 'systolic', 'table', 'taken', 'taken operating', 'taking', 'tear', 'technique', 'temperature', 'tenderness', 'tendon', 'test', 'testing', 'therapy', 'thickening', 'think', 'thought', 'throat', 'thyroid', 'tibial', 'time', 'tissue', 'tobacco', 'today', 'toe', 'tolerated', 'tolerated procedure', 'tone', 'tongue', 'total', 'tourniquet', 'trachea', 'transferred', 'transverse', 'treated', 'treatment', 'trial', 'tricuspid', 'tube', 'tumor', 'tunnel', 'twice', 'type', 'ulnar', 'ultrasound', 'unable', 'underwent', 'unit', 'unknown', 'unremarkable', 'upper', 'upper extremity', 'upper lobe', 'urinary', 'urine', 'use', 'used', 'using', 'usual', 'usual sterile', 'utilizing', 'valve', 'vascular', 'vein', 'venous', 'ventricle', 'ventricular', 'vertebral', 'vertebral body', 'vessel', 'vicryl', 'view', 'vision', 'visit', 'visual', 'visualized', 'vital', 'vital sign', 'vitamin', 'volume', 'vomiting', 'walk', 'walking', 'wall', 'weakness', 'week', 'weight', 'went', 'white', 'wife', 'wire', 'woman', 'work', 'workup', 'worse', 'wound', 'wrist', 'xray', 'xrays', 'xyz', 'year', 'year ago']\n"
          ]
        },
        {
          "output_type": "stream",
          "name": "stderr",
          "text": [
            "/usr/local/lib/python3.8/dist-packages/sklearn/utils/deprecation.py:87: FutureWarning: Function get_feature_names is deprecated; get_feature_names is deprecated in 1.0 and will be removed in 1.2. Please use get_feature_names_out instead.\n",
            "  warnings.warn(msg, category=FutureWarning)\n"
          ]
        }
      ]
    },
    {
      "cell_type": "code",
      "source": [
        "#Principal component analysis (PCA).\n",
        "pca = PCA(n_components=0.95)\n",
        "tfIdfMat_reduced = pca.fit_transform(tfIdfMat.toarray())\n",
        "labels = df['medical_specialty'].tolist()\n",
        "category_list = df.medical_specialty.unique()"
      ],
      "metadata": {
        "id": "KWzu3j9K4B_d"
      },
      "execution_count": 24,
      "outputs": []
    },
    {
      "cell_type": "code",
      "source": [
        "# df['length']= df.transcription.str.len()\n"
      ],
      "metadata": {
        "id": "_8VCZtAE4tOk"
      },
      "execution_count": 25,
      "outputs": []
    },
    {
      "cell_type": "code",
      "source": [
        "df['medical_specialty'] = df['medical_specialty'].map({' Cardiovascular / Pulmonary': 0, ' Consult - History and Phy.' :1, ' Gastroenterology':2, ' Neurology':3, ' Obstetrics / Gynecology': 4, ' Orthopedic':5, ' Radiology':6, ' Urology':7})"
      ],
      "metadata": {
        "id": "PuD9I8-35KqF"
      },
      "execution_count": 26,
      "outputs": []
    },
    {
      "cell_type": "code",
      "source": [
        "from sklearn.model_selection import train_test_split\n",
        "x_train, x_test, y_train, y_test= train_test_split(df['transcription'], df['medical_specialty'], test_size = 0.2, random_state = 0)"
      ],
      "metadata": {
        "id": "9GqWlLHV6VHn"
      },
      "execution_count": 27,
      "outputs": []
    },
    {
      "cell_type": "code",
      "source": [
        "from sklearn.feature_extraction.text import TfidfVectorizer\n",
        "\n",
        "vec = TfidfVectorizer(stop_words= 'english')\n",
        "tf_v_matrix_train = vec.fit_transform(x_train)\n",
        "tf_v_matrix_valid = vec.transform(x_test)\n",
        "tf_v_matrix_train.shape"
      ],
      "metadata": {
        "id": "L8jlKSu37P-t",
        "colab": {
          "base_uri": "https://localhost:8080/"
        },
        "outputId": "91cc47ac-abe0-4715-a8d0-8699b0458ff4"
      },
      "execution_count": 28,
      "outputs": [
        {
          "output_type": "execute_result",
          "data": {
            "text/plain": [
              "(1212, 16609)"
            ]
          },
          "metadata": {},
          "execution_count": 28
        }
      ]
    },
    {
      "cell_type": "code",
      "source": [
        "from sklearn.neural_network import MLPClassifier\n",
        "from sklearn.metrics import confusion_matrix, accuracy_score, precision_score\n",
        "\n",
        "# fit the training dataset on the classifier\n",
        "import seaborn as sns\n",
        "model = MLPClassifier()\n",
        "model.fit(tf_v_matrix_train, y_train)\n",
        "# predict the labels on validation dataset\n",
        "y_pred_mlp = model.predict(tf_v_matrix_valid)\n",
        "\n",
        "print(f\"(percision score is :{precision_score(y_true = y_test, y_pred= y_pred_mlp, pos_label='positive', average='macro')}\")\n",
        "print(f\"(accuracy score is :{accuracy_score(y_test, y_pred_mlp)}\")\n",
        "\n",
        "\n",
        "\n",
        "\n"
      ],
      "metadata": {
        "id": "NRlmHI3jBul0",
        "colab": {
          "base_uri": "https://localhost:8080/"
        },
        "outputId": "09e03752-b8b8-4eea-b850-dc53538ca7ac"
      },
      "execution_count": 29,
      "outputs": [
        {
          "output_type": "stream",
          "name": "stdout",
          "text": [
            "(percision score is :0.7035741098241097\n",
            "(accuracy score is :0.7227722772277227\n"
          ]
        },
        {
          "output_type": "stream",
          "name": "stderr",
          "text": [
            "/usr/local/lib/python3.8/dist-packages/sklearn/metrics/_classification.py:1370: UserWarning: Note that pos_label (set to 'positive') is ignored when average != 'binary' (got 'macro'). You may use labels=[pos_label] to specify a single positive class.\n",
            "  warnings.warn(\n"
          ]
        }
      ]
    },
    {
      "cell_type": "code",
      "source": [
        "from sklearn.linear_model import LogisticRegression \n",
        "logreg = LogisticRegression(class_weight=\"balanced\")\n",
        "logreg.fit(tf_v_matrix_train, y_train) \n",
        "y_pred_class = logreg.predict(tf_v_matrix_valid)\n",
        "\n",
        "print(f\"(percision score is :{precision_score(y_true = y_test, y_pred= y_pred_class, pos_label='positive', average='macro')}\")\n",
        "print(f\"(accuracy score is :{accuracy_score(y_test, y_pred_class)}\")"
      ],
      "metadata": {
        "id": "5Uu9DkPQNhxE",
        "colab": {
          "base_uri": "https://localhost:8080/"
        },
        "outputId": "f267599e-29f1-4484-97df-5b9ecc283076"
      },
      "execution_count": 30,
      "outputs": [
        {
          "output_type": "stream",
          "name": "stdout",
          "text": [
            "(percision score is :0.7557514498080535\n",
            "(accuracy score is :0.768976897689769\n"
          ]
        },
        {
          "output_type": "stream",
          "name": "stderr",
          "text": [
            "/usr/local/lib/python3.8/dist-packages/sklearn/metrics/_classification.py:1370: UserWarning: Note that pos_label (set to 'positive') is ignored when average != 'binary' (got 'macro'). You may use labels=[pos_label] to specify a single positive class.\n",
            "  warnings.warn(\n"
          ]
        }
      ]
    },
    {
      "cell_type": "code",
      "source": [
        "from sklearn import svm\n",
        "# Classifier - Algorithm - SVM\n",
        "# fit the training dataset on the classifier\n",
        "model = svm.SVC(kernel='linear')\n",
        "model.fit(tf_v_matrix_train, y_train)\n",
        "# predict the labels on validation dataset\n",
        "y_pred_svm = model.predict(tf_v_matrix_valid)\n",
        "# Use accuracy_score function to get the accuracy\n",
        "print(f\"(percision score is :{precision_score(y_true = y_test, y_pred= y_pred_svm, pos_label='positive', average='macro')}\")\n",
        "print(f\"(accuracy score is :{accuracy_score(y_test, y_pred_svm)}\")\n",
        "\n",
        "\n"
      ],
      "metadata": {
        "id": "Rg2kNHNtje9c",
        "colab": {
          "base_uri": "https://localhost:8080/"
        },
        "outputId": "0d05b30d-d922-43bf-8364-d65b3724423f"
      },
      "execution_count": 31,
      "outputs": [
        {
          "output_type": "stream",
          "name": "stdout",
          "text": [
            "(percision score is :0.7421503593145384\n",
            "(accuracy score is :0.7557755775577558\n"
          ]
        },
        {
          "output_type": "stream",
          "name": "stderr",
          "text": [
            "/usr/local/lib/python3.8/dist-packages/sklearn/metrics/_classification.py:1370: UserWarning: Note that pos_label (set to 'positive') is ignored when average != 'binary' (got 'macro'). You may use labels=[pos_label] to specify a single positive class.\n",
            "  warnings.warn(\n"
          ]
        }
      ]
    },
    {
      "cell_type": "code",
      "source": [],
      "metadata": {
        "id": "XQ-m1sqeNftN"
      },
      "execution_count": 31,
      "outputs": []
    },
    {
      "cell_type": "code",
      "source": [
        "import seaborn as sns \n",
        "from sklearn.neighbors import KNeighborsClassifier\n",
        "from sklearn.metrics import confusion_matrix, accuracy_score, precision_score\n",
        "\n",
        "\n",
        "knn_model=KNeighborsClassifier(n_neighbors=1)\n",
        "\n",
        "knn_model.fit(tf_v_matrix_train,y_train)\n",
        "\n",
        "y_pred_knn=knn_model.predict(tf_v_matrix_valid)\n",
        "\n",
        "print(f\"(percision score is :{precision_score(y_true = y_test, y_pred= y_pred_knn, pos_label='positive', average='macro')}\")\n",
        "print(f\"(accuracy score is :{accuracy_score(y_test, y_pred_knn)}\")\n",
        "\n",
        "\n"
      ],
      "metadata": {
        "id": "l1wPYQ7rTKGK",
        "colab": {
          "base_uri": "https://localhost:8080/"
        },
        "outputId": "176eea6c-0b12-4a77-dbe1-d381bf67fa4c"
      },
      "execution_count": 32,
      "outputs": [
        {
          "output_type": "stream",
          "name": "stdout",
          "text": [
            "(percision score is :0.6801609848484848\n",
            "(accuracy score is :0.6963696369636964\n"
          ]
        },
        {
          "output_type": "stream",
          "name": "stderr",
          "text": [
            "/usr/local/lib/python3.8/dist-packages/sklearn/metrics/_classification.py:1370: UserWarning: Note that pos_label (set to 'positive') is ignored when average != 'binary' (got 'macro'). You may use labels=[pos_label] to specify a single positive class.\n",
            "  warnings.warn(\n"
          ]
        }
      ]
    },
    {
      "cell_type": "code",
      "source": [
        "from sklearn.ensemble import RandomForestClassifier\n",
        "from sklearn.metrics import  accuracy_score\n",
        "classifierh = RandomForestClassifier(n_estimators=1000, random_state=0)\n",
        "classifierh.fit(tf_v_matrix_train,y_train) \n",
        "y_pred_rfc = classifierh.predict(tf_v_matrix_valid)\n",
        "\n",
        "print(f\"(percision score is :{precision_score(y_true = y_test, y_pred= y_pred_rfc, pos_label='positive', average='macro')}\")\n",
        "print(f\"(accuracy score is :{accuracy_score(y_test, y_pred_rfc)}\")\n",
        "# print(classification_report(y_test,y_pred_rfc))\n"
      ],
      "metadata": {
        "id": "gFKUF5siPSk0",
        "colab": {
          "base_uri": "https://localhost:8080/"
        },
        "outputId": "26fa3760-e1d1-46e0-f1f7-f821b6830979"
      },
      "execution_count": 33,
      "outputs": [
        {
          "output_type": "stream",
          "name": "stdout",
          "text": [
            "(percision score is :0.6840131886087768\n",
            "(accuracy score is :0.7029702970297029\n"
          ]
        },
        {
          "output_type": "stream",
          "name": "stderr",
          "text": [
            "/usr/local/lib/python3.8/dist-packages/sklearn/metrics/_classification.py:1370: UserWarning: Note that pos_label (set to 'positive') is ignored when average != 'binary' (got 'macro'). You may use labels=[pos_label] to specify a single positive class.\n",
            "  warnings.warn(\n"
          ]
        }
      ]
    }
  ]
}